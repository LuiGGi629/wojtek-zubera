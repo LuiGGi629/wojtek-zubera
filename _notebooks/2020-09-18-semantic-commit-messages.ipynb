{
 "metadata": {
  "language_info": {
   "codemirror_mode": {
    "name": "ipython",
    "version": 3
   },
   "file_extension": ".py",
   "mimetype": "text/x-python",
   "name": "python",
   "nbconvert_exporter": "python",
   "pygments_lexer": "ipython3",
   "version": 3
  },
  "orig_nbformat": 2
 },
 "nbformat": 4,
 "nbformat_minor": 2,
 "cells": [
  {
   "source": [
    "# Semantic Commit Messages\n",
    "> See how a minor change to your commit message style can make you a better programmer.\n",
    "\n",
    "- toc: true \n",
    "- badges: true\n",
    "- comments: true\n",
    "- categories: [git, shell]\n",
    "- permalink: /semantic/"
   ],
   "cell_type": "markdown",
   "metadata": {}
  },
  {
   "source": [
    "Format: `<type>(<scope>): <subject>`\n",
    "\n",
    "`<scope>` is optional\n",
    "\n",
    "## Example\n",
    "\n",
    "```\n",
    "feat: add hat wobble\n",
    "^--^  ^------------^\n",
    "|     |\n",
    "|     +-> Summary in present tense.\n",
    "|\n",
    "+-------> Type: chore, docs, feat, fix, refactor, style, or test.\n",
    "```\n",
    "\n",
    "More Examples:\n",
    "\n",
    "- `feat`: (new feature for the user, not a new feature for build script)\n",
    "- `fix`: (bug fix for the user, not a fix to a build script)\n",
    "- `docs`: (changes to the documentation)\n",
    "- `style`: (formatting, missing semi colons, etc; no production code change)\n",
    "- `refactor`: (refactoring production code, eg. renaming a variable)\n",
    "- `test`: (adding missing tests, refactoring tests; no production code change)\n",
    "- `chore`: (updating grunt tasks etc; no production code change)\n",
    "\n",
    "References:\n",
    "\n",
    "- https://gist.github.com/joshbuchea/6f47e86d2510bce28f8e7f42ae84c716\n",
    "- https://www.conventionalcommits.org/\n",
    "- https://seesparkbox.com/foundry/semantic_commit_messages\n",
    "- http://karma-runner.github.io/1.0/dev/git-commit-msg.html"
   ],
   "cell_type": "markdown",
   "metadata": {}
  }
 ]
}